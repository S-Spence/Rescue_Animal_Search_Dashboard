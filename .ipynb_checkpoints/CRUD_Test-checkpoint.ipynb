{
 "cells": [
  {
   "cell_type": "code",
   "execution_count": 1,
   "metadata": {
    "scrolled": true
   },
   "outputs": [],
   "source": [
    "import CRUD\n",
    "import pprint\n",
    "from bson.json_util import dumps\n",
    "\n",
    "crud = CRUD.AnimalShelter(\"aacuser\", \"userPassword1\")"
   ]
  },
  {
   "cell_type": "code",
   "execution_count": 2,
   "metadata": {},
   "outputs": [],
   "source": [
    "data = {\"age_upon_outcome\":\"3 Years\",\n",
    "        \"animal_id\":\"A746874\",\n",
    "        \"animal_type\":\"Dog\",\n",
    "        \"breed\":\"Siberian Husky\",\n",
    "        \"color\":\"Black/White\",\n",
    "        \"name\":\"Koda\"\n",
    "        }"
   ]
  },
  {
   "cell_type": "code",
   "execution_count": 3,
   "metadata": {},
   "outputs": [
    {
     "name": "stdout",
     "output_type": "stream",
     "text": [
      "True\n"
     ]
    }
   ],
   "source": [
    "# Check that a new object is created\n",
    "print(crud.create(data))"
   ]
  },
  {
   "cell_type": "code",
   "execution_count": 4,
   "metadata": {},
   "outputs": [
    {
     "name": "stdout",
     "output_type": "stream",
     "text": [
      "('[{\"age_upon_outcome\": \"3 Years\", \"animal_id\": \"A746874\", \"animal_type\": '\n",
      " '\"Dog\", \"breed\": \"Siberian Husky\", \"color\": \"Black/White\", \"name\": \"Koda\"}]')\n"
     ]
    }
   ],
   "source": [
    "# Test the read method on the new data\n",
    "results = crud.read(data)\n",
    "# Print results\n",
    "pprint.pprint(dumps(results))"
   ]
  },
  {
   "cell_type": "code",
   "execution_count": 5,
   "metadata": {},
   "outputs": [
    {
     "name": "stdout",
     "output_type": "stream",
     "text": [
      "10001\n"
     ]
    }
   ],
   "source": [
    "# Test the read all method on the data and the print the size of the dataset\n",
    "results = crud.read_all({})\n",
    "print(len(list(results)))"
   ]
  },
  {
   "cell_type": "code",
   "execution_count": 6,
   "metadata": {},
   "outputs": [
    {
     "name": "stdout",
     "output_type": "stream",
     "text": [
      "('Water rescue: {\"\": 36, \"age_upon_outcome\": \"6 months\", \"animal_id\": '\n",
      " '\"A706953\", \"animal_type\": \"Dog\", \"breed\": \"Labrador Retriever Mix\", \"color\": '\n",
      " '\"Yellow\", \"date_of_birth\": \"2014-12-06\", \"datetime\": \"2015-07-06 11:33:00\", '\n",
      " '\"monthyear\": \"2015-07-06T11:33:00\", \"name\": \"\", \"outcome_subtype\": '\n",
      " '\"Medical\", \"outcome_type\": \"Euthanasia\", \"sex_upon_outcome\": \"Intact '\n",
      " 'Female\", \"location_lat\": 30.5480802368633, \"location_long\": '\n",
      " '-97.2969969058957, \"age_upon_outcome_in_weeks\": 30.3544642857143}')\n",
      "('Mountain rescue: {\"\": 5315, \"age_upon_outcome\": \"2 years\", \"animal_id\": '\n",
      " '\"A708726\", \"animal_type\": \"Dog\", \"breed\": \"Alaskan Malamute\", \"color\": '\n",
      " '\"Sable/White\", \"date_of_birth\": \"2013-07-30\", \"datetime\": \"2015-08-02 '\n",
      " '17:24:00\", \"monthyear\": \"2015-08-02T17:24:00\", \"name\": \"Papa\", '\n",
      " '\"outcome_subtype\": \"\", \"outcome_type\": \"Return to Owner\", '\n",
      " '\"sex_upon_outcome\": \"Intact Male\", \"location_lat\": 30.4309339291938, '\n",
      " '\"location_long\": -97.480825836737, \"age_upon_outcome_in_weeks\": '\n",
      " '104.817857142857}')\n",
      "('Disaster rescue: {\"\": 3767, \"age_upon_outcome\": \"4 years\", \"animal_id\": '\n",
      " '\"A712291\", \"animal_type\": \"Dog\", \"breed\": \"Bloodhound\", \"color\": \"Red\", '\n",
      " '\"date_of_birth\": \"2011-09-20\", \"datetime\": \"2015-09-22 15:43:00\", '\n",
      " '\"monthyear\": \"2015-09-22T15:43:00\", \"name\": \"Boomer\", \"outcome_subtype\": \"\", '\n",
      " '\"outcome_type\": \"Return to Owner\", \"sex_upon_outcome\": \"Intact Male\", '\n",
      " '\"location_lat\": 30.2709983761287, \"location_long\": -97.5923916912722, '\n",
      " '\"age_upon_outcome_in_weeks\": 209.093551587302}')\n"
     ]
    }
   ],
   "source": [
    "# Test the filtered_rescue_dog method. Limit the output to one. \n",
    "water_result = list(crud.filtered_rescue_dogs(\"Water\"))\n",
    "mountain_result = list(crud.filtered_rescue_dogs(\"Mountain\"))\n",
    "disaster_result = list(crud.filtered_rescue_dogs(\"Disaster\"))\n",
    "pprint.pprint(f\"Water rescue: {dumps(water_result[0])}\")\n",
    "pprint.pprint(f\"Mountain rescue: {dumps(mountain_result[0])}\")\n",
    "pprint.pprint(f\"Disaster rescue: {dumps(disaster_result[0])}\")"
   ]
  },
  {
   "cell_type": "code",
   "execution_count": 7,
   "metadata": {},
   "outputs": [
    {
     "name": "stdout",
     "output_type": "stream",
     "text": [
      "<pymongo.results.UpdateResult object at 0x7fec34415708>\n",
      "[{'age_upon_outcome': '4 Years',\n",
      "  'animal_id': 'A746874',\n",
      "  'animal_type': 'Dog',\n",
      "  'breed': 'Siberian Husky',\n",
      "  'color': 'Black/White',\n",
      "  'name': 'Koda'}]\n"
     ]
    }
   ],
   "source": [
    "# Test the update method\n",
    "# Define update data\n",
    "update_data = {\"age_upon_outcome\": \"4 Years\"}\n",
    "# Store json string in a result variable\n",
    "update_result = crud.update(data, update_data)\n",
    "# Print json string\n",
    "print(update_result)\n",
    "# Print the object to ensure the age field was updated\n",
    "pprint.pprint(crud.read({\"animal_id\":\"A746874\"}))"
   ]
  },
  {
   "cell_type": "code",
   "execution_count": 8,
   "metadata": {},
   "outputs": [
    {
     "name": "stdout",
     "output_type": "stream",
     "text": [
      "<pymongo.results.DeleteResult object at 0x7fec34432ec8>\n"
     ]
    }
   ],
   "source": [
    "# Test the delete method with the created and updated document above\n",
    "delete_data = {\"animal_id\":\"A746874\"}\n",
    "delete_result = crud.delete(delete_data)\n",
    "print(delete_result)"
   ]
  },
  {
   "cell_type": "code",
   "execution_count": 9,
   "metadata": {
    "scrolled": true
   },
   "outputs": [
    {
     "name": "stderr",
     "output_type": "stream",
     "text": [
      ".............\n",
      "----------------------------------------------------------------------\n",
      "Ran 13 tests in 0.191s\n",
      "\n",
      "OK\n"
     ]
    },
    {
     "data": {
      "text/plain": [
       "<unittest.main.TestProgram at 0x7fec1e601080>"
      ]
     },
     "execution_count": 9,
     "metadata": {},
     "output_type": "execute_result"
    }
   ],
   "source": [
    "# Run automated tests\n",
    "import unittest\n",
    "\n",
    "# create test data\n",
    "test_data = {\"age_upon_outcome\": \"3 Years\",\n",
    "                    \"animal_id\": \"1234567895\",\n",
    "                    \"breed\": \"Saluki\",\n",
    "                    \"color\": \"Black/White\",\n",
    "                    \"name\": \"Chaz\"}\n",
    "\n",
    "# Create invalid test data for reading\n",
    "invalid_test_data = {\"animal_id\":\"invalid_id_not_in_DB\"}\n",
    "\n",
    "# Create already in use ID\n",
    "used_id = {\"animal_id\":\"A664290\"}\n",
    "\n",
    "# Create update data\n",
    "update_data = {\"breed\":\"Golden Retriever\"}\n",
    "\n",
    "\n",
    "class TestMethods(unittest.TestCase):\n",
    "    \n",
    "        \n",
    "    def test_create_unique_id(self):\n",
    "        \"\"\"Test that an animal with a unique id is inserted\n",
    "           The animal_id is a separate variable from the ObjectId.\"\"\"\n",
    "        self.assertTrue(crud.create(test_data))\n",
    "    \n",
    "    def test_non_unique_id_exception(self):\n",
    "        \"\"\"Test that and exception is thrown when the animal_id is not\n",
    "           unique. Uses data inserted in calls above.\"\"\"\n",
    "        self.assertRaises(Exception, crud.create, used_id)\n",
    "    \n",
    "    def test_null_create(self):\n",
    "        \"\"\"Test for an exception when creating a document with null\n",
    "           data.\"\"\"\n",
    "        self.assertRaises(Exception, crud.create, {})\n",
    "    \n",
    "    def test_read_animal(self):\n",
    "        \"\"\"Test that the read method works when passing in a data\n",
    "        dictionary.\"\"\"\n",
    "        self.assertTrue(crud.read(used_id))\n",
    "    \n",
    "    def test_read_invalid_animal(self):\n",
    "        \"\"\"Test that an exception is raised when searching for an \n",
    "           animal that is not in the database.\"\"\"\n",
    "        self.assertRaises(Exception, crud.read, invalid_test_data)\n",
    "        \n",
    "    def test_null_read(self):\n",
    "        \"\"\"Test that an exception is raised when searching with null \n",
    "           data.\"\"\"\n",
    "        self.assertRaises(Exception, crud.read, {})\n",
    "    \n",
    "    def test_read_all(self):\n",
    "        \"\"\"Test the read all method for the dashboard\"\"\"\n",
    "        self.assertTrue(len(list(crud.read_all({})))>= 10000)\n",
    "        \n",
    "    def test_update_data(self):\n",
    "        \"\"\"Test that the update method works with valid data\"\"\"\n",
    "        self.assertTrue(crud.update(used_id, update_data))\n",
    "    \n",
    "    def test_update_null(self):\n",
    "        \"\"\"Test that an exception is thrown when updating with null data\"\"\"\n",
    "        self.assertRaises(Exception, crud.update, {}, {})\n",
    "    \n",
    "    def test_update_invalid(self):\n",
    "        \"\"\"Test that an exception is thrown when trying to update an invalid document\"\"\"\n",
    "        self.assertRaises(Exception, crud.update, invalid_test_data, {\"breed\":\"Pug\"})\n",
    "    \n",
    "    def test_delete_data(self):\n",
    "        \"\"\"Test that the data is deleted from the database\"\"\"\n",
    "        crud.create({\"animal_id\":\"1991\"})\n",
    "        crud.delete({\"animal_id\":\"1991\"})\n",
    "        self.assertRaises(Exception, crud.read, {\"animal_id\": \"1991\"})\n",
    "    \n",
    "    def test_delete_null(self):\n",
    "        \"\"\"Test that an exception is thrown when deleting with null data\"\"\"\n",
    "        self.assertRaises(Exception, crud.delete, {})\n",
    "        \n",
    "    def test_delete_invalid(self):\n",
    "        \"\"\"Test that an exception is thrown when deleting with invalid data\"\"\"\n",
    "        self.assertRaises(Exception, crud.delete, invalid_test_data)\n",
    "        \n",
    "\n",
    "# Run tests\n",
    "unittest.main(argv=[''], exit=False)"
   ]
  }
 ],
 "metadata": {
  "kernelspec": {
   "display_name": "Python 3",
   "language": "python",
   "name": "python3"
  },
  "language_info": {
   "codemirror_mode": {
    "name": "ipython",
    "version": 3
   },
   "file_extension": ".py",
   "mimetype": "text/x-python",
   "name": "python",
   "nbconvert_exporter": "python",
   "pygments_lexer": "ipython3",
   "version": "3.8.0"
  }
 },
 "nbformat": 4,
 "nbformat_minor": 4
}
